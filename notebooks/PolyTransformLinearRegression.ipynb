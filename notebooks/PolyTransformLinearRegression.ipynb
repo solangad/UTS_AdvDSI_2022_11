{
 "cells": [
  {
   "cell_type": "code",
   "execution_count": 48,
   "id": "db02bfa2-6695-4f0c-8a06-1326dac9976c",
   "metadata": {},
   "outputs": [],
   "source": [
    "import pandas as pd\n",
    "import numpy as np\n",
    "from joblib import dump"
   ]
  },
  {
   "cell_type": "code",
   "execution_count": 49,
   "id": "ab97fdc3-155f-4770-af2f-cd7eae39a718",
   "metadata": {},
   "outputs": [],
   "source": [
    "X_train = np.load(r'C:\\Users\\1\\Documents\\Lab1\\uts_advdsi_2022_11\\data\\processed\\X_train.npy')\n",
    "X_val   = np.load(r'C:\\Users\\1\\Documents\\Lab1\\uts_advdsi_2022_11\\data\\processed\\X_val.npy'  )\n",
    "y_train = np.load(r'C:\\Users\\1\\Documents\\Lab1\\uts_advdsi_2022_11\\data\\y_train.npy')\n",
    "y_val   = np.load(r'C:\\Users\\1\\Documents\\Lab1\\uts_advdsi_2022_11\\data\\y_val.npy'  )"
   ]
  },
  {
   "cell_type": "code",
   "execution_count": 50,
   "id": "e628275d-161a-492b-8932-8555c6f1cbde",
   "metadata": {},
   "outputs": [
    {
     "data": {
      "text/plain": [
       "(6400, 19)"
      ]
     },
     "execution_count": 50,
     "metadata": {},
     "output_type": "execute_result"
    }
   ],
   "source": [
    "X_train.shape"
   ]
  },
  {
   "cell_type": "code",
   "execution_count": 51,
   "id": "70fcf9ad-5ed1-40b6-82f1-03f279e49157",
   "metadata": {},
   "outputs": [
    {
     "data": {
      "text/plain": [
       "(1600, 19)"
      ]
     },
     "execution_count": 51,
     "metadata": {},
     "output_type": "execute_result"
    }
   ],
   "source": [
    "X_val.shape"
   ]
  },
  {
   "cell_type": "code",
   "execution_count": 52,
   "id": "7cd5845a-ef69-4c4b-ac54-e64822a8cda7",
   "metadata": {},
   "outputs": [],
   "source": [
    "df_test = pd.read_csv(r'C:\\Users\\1\\Documents\\Lab1\\uts_advdsi_2022_11\\data\\raw\\2022_test.csv')"
   ]
  },
  {
   "cell_type": "code",
   "execution_count": 53,
   "id": "e706e734-32af-4ed0-9aba-cd54d547f0a5",
   "metadata": {},
   "outputs": [],
   "source": [
    "X_test = df_test.drop(['Id'], axis=1)"
   ]
  },
  {
   "cell_type": "code",
   "execution_count": 54,
   "id": "87dae484-2d26-4ade-b163-03b5d697ee34",
   "metadata": {},
   "outputs": [],
   "source": [
    "from sklearn.preprocessing import PolynomialFeatures"
   ]
  },
  {
   "cell_type": "code",
   "execution_count": 55,
   "id": "c651028d-9ba4-44c6-a3d5-8189be302d1e",
   "metadata": {},
   "outputs": [],
   "source": [
    "poly = PolynomialFeatures(2)"
   ]
  },
  {
   "cell_type": "code",
   "execution_count": 56,
   "id": "d343813e-cd33-48ed-b4be-36a320629519",
   "metadata": {},
   "outputs": [],
   "source": [
    "X_train = poly.fit_transform(X_train)"
   ]
  },
  {
   "cell_type": "code",
   "execution_count": 57,
   "id": "0a8bddf7-174d-4d3b-9dfb-4b9c1a6ebe40",
   "metadata": {},
   "outputs": [
    {
     "data": {
      "text/plain": [
       "(6400, 210)"
      ]
     },
     "execution_count": 57,
     "metadata": {},
     "output_type": "execute_result"
    }
   ],
   "source": [
    "X_train.shape"
   ]
  },
  {
   "cell_type": "code",
   "execution_count": 58,
   "id": "7607b45b-0361-4feb-8afa-8c393474c18f",
   "metadata": {},
   "outputs": [],
   "source": [
    "X_val = poly.transform(X_val)"
   ]
  },
  {
   "cell_type": "code",
   "execution_count": 59,
   "id": "7cd48d73-d095-485f-87a0-eab37c428406",
   "metadata": {},
   "outputs": [
    {
     "data": {
      "text/plain": [
       "(1600, 210)"
      ]
     },
     "execution_count": 59,
     "metadata": {},
     "output_type": "execute_result"
    }
   ],
   "source": [
    "X_val.shape"
   ]
  },
  {
   "cell_type": "code",
   "execution_count": 61,
   "id": "f37f7bb4-eb6a-4c59-902f-c8d4b17bf2df",
   "metadata": {},
   "outputs": [
    {
     "data": {
      "text/plain": [
       "(3799, 210)"
      ]
     },
     "execution_count": 61,
     "metadata": {},
     "output_type": "execute_result"
    }
   ],
   "source": [
    "X_test = poly.transform(X_test)\n",
    "X_test.shape"
   ]
  },
  {
   "cell_type": "code",
   "execution_count": null,
   "id": "1629e934-692a-459e-b29a-2391d1be9f9f",
   "metadata": {},
   "outputs": [],
   "source": []
  },
  {
   "cell_type": "code",
   "execution_count": 62,
   "id": "d514d814-f0ca-43eb-a5a2-5f3e13dc292b",
   "metadata": {},
   "outputs": [],
   "source": [
    "from sklearn.linear_model import LinearRegression "
   ]
  },
  {
   "cell_type": "code",
   "execution_count": 63,
   "id": "c92ce1d7-fda7-4aec-988d-8d34abe5a16e",
   "metadata": {},
   "outputs": [],
   "source": [
    "reg = LinearRegression()"
   ]
  },
  {
   "cell_type": "code",
   "execution_count": 64,
   "id": "2346a64e-4917-439f-b459-1faf57e882af",
   "metadata": {},
   "outputs": [
    {
     "data": {
      "text/plain": [
       "LinearRegression(copy_X=True, fit_intercept=True, n_jobs=None, normalize=False)"
      ]
     },
     "execution_count": 64,
     "metadata": {},
     "output_type": "execute_result"
    }
   ],
   "source": [
    "reg.fit(X_train, y_train)"
   ]
  },
  {
   "cell_type": "code",
   "execution_count": 65,
   "id": "043787d2-0832-484d-bdb0-30963c82e5d8",
   "metadata": {},
   "outputs": [
    {
     "data": {
      "text/plain": [
       "['C:\\\\Users\\\\1\\\\Documents\\\\Lab1\\\\uts_advdsi_2022_11\\\\models\\\\linear_poly_2.joblib']"
      ]
     },
     "execution_count": 65,
     "metadata": {},
     "output_type": "execute_result"
    }
   ],
   "source": [
    "from joblib import dump  \n",
    "dump(reg,  r'C:\\Users\\1\\Documents\\Lab1\\uts_advdsi_2022_11\\models\\linear_poly_2.joblib')"
   ]
  },
  {
   "cell_type": "code",
   "execution_count": 66,
   "id": "1b539ece-0b0d-49ab-8359-e93af2286345",
   "metadata": {},
   "outputs": [],
   "source": [
    "y_train_preds = reg.predict(X_train)\n",
    "y_val_preds = reg.predict(X_val)"
   ]
  },
  {
   "cell_type": "code",
   "execution_count": 67,
   "id": "9ee9c830-c4cd-4f92-8a38-10a813e3ad9f",
   "metadata": {},
   "outputs": [],
   "source": [
    "from sklearn.metrics import mean_squared_error as mse\n",
    "from sklearn.metrics import mean_absolute_error as mae"
   ]
  },
  {
   "cell_type": "code",
   "execution_count": 68,
   "id": "21e14cac-03e3-4e41-89a5-b920892751e1",
   "metadata": {},
   "outputs": [
    {
     "name": "stdout",
     "output_type": "stream",
     "text": [
      "0.3536876101943765\n",
      "0.2553454935339516\n"
     ]
    }
   ],
   "source": [
    "print(mse(y_train, y_train_preds, squared=False))\n",
    "print(mae(y_train, y_train_preds))"
   ]
  },
  {
   "cell_type": "code",
   "execution_count": 69,
   "id": "28b74cb8-f8eb-4278-9ead-6d3a104442e7",
   "metadata": {},
   "outputs": [
    {
     "name": "stdout",
     "output_type": "stream",
     "text": [
      "0.35758695597861906\n",
      "0.25891449337971467\n"
     ]
    }
   ],
   "source": [
    "print(mse(y_val, y_val_preds, squared=False))\n",
    "print(mae(y_val, y_val_preds))"
   ]
  },
  {
   "cell_type": "code",
   "execution_count": 70,
   "id": "8374d689-7992-4e27-84f6-6562df60eb8a",
   "metadata": {},
   "outputs": [],
   "source": [
    "df_test = pd.read_csv(r'C:\\Users\\1\\Documents\\Lab1\\uts_advdsi_2022_11\\data\\raw\\2022_test.csv')"
   ]
  },
  {
   "cell_type": "code",
   "execution_count": 76,
   "id": "aa4c6c7c-2e43-4d1a-879e-47cfd2dc2b64",
   "metadata": {},
   "outputs": [
    {
     "data": {
      "text/plain": [
       "0.10423477659204983"
      ]
     },
     "execution_count": 76,
     "metadata": {},
     "output_type": "execute_result"
    }
   ],
   "source": [
    "reg.score(X_train, y_train)"
   ]
  },
  {
   "cell_type": "code",
   "execution_count": 77,
   "id": "1f756139-a218-440b-a635-8857ca6f4077",
   "metadata": {},
   "outputs": [
    {
     "data": {
      "text/plain": [
       "0.05159427734440791"
      ]
     },
     "execution_count": 77,
     "metadata": {},
     "output_type": "execute_result"
    }
   ],
   "source": [
    "reg.score(X_val, y_val)"
   ]
  },
  {
   "cell_type": "code",
   "execution_count": 71,
   "id": "ff4413cb-60bd-480c-9a85-257819bc1d5f",
   "metadata": {},
   "outputs": [
    {
     "data": {
      "text/plain": [
       "array([[0.82346044],\n",
       "       [0.7785867 ],\n",
       "       [0.91021768],\n",
       "       ...,\n",
       "       [0.70402153],\n",
       "       [1.02086236],\n",
       "       [0.77431895]])"
      ]
     },
     "execution_count": 71,
     "metadata": {},
     "output_type": "execute_result"
    }
   ],
   "source": [
    "y_test_preds = reg.predict(X_test)\n",
    "y_test_preds"
   ]
  },
  {
   "cell_type": "code",
   "execution_count": 73,
   "id": "e9e5da3c-a5f4-4515-97e9-27ada5d21696",
   "metadata": {},
   "outputs": [],
   "source": [
    "df_pred = pd.DataFrame(y_test_preds)"
   ]
  },
  {
   "cell_type": "code",
   "execution_count": 74,
   "id": "9b178fea-6597-4f93-9584-2959d3cf1cc9",
   "metadata": {},
   "outputs": [],
   "source": [
    "df_pred.columns =['Target_5Yrs']"
   ]
  },
  {
   "cell_type": "code",
   "execution_count": 75,
   "id": "5484ed07-5d01-4bb0-adeb-4b4496cbdfdb",
   "metadata": {},
   "outputs": [],
   "source": [
    "df_pred.to_csv(r'C:\\Users\\1\\Documents\\Lab1\\uts_advdsi_2022_11\\data\\processed\\LiearRegwithPoly2.csv')"
   ]
  },
  {
   "cell_type": "code",
   "execution_count": null,
   "id": "7a684eed-1bc1-4cb0-80af-eb5415411e87",
   "metadata": {},
   "outputs": [],
   "source": []
  }
 ],
 "metadata": {
  "kernelspec": {
   "display_name": "Python 3 (ipykernel)",
   "language": "python",
   "name": "python3"
  },
  "language_info": {
   "codemirror_mode": {
    "name": "ipython",
    "version": 3
   },
   "file_extension": ".py",
   "mimetype": "text/x-python",
   "name": "python",
   "nbconvert_exporter": "python",
   "pygments_lexer": "ipython3",
   "version": "3.8.12"
  }
 },
 "nbformat": 4,
 "nbformat_minor": 5
}
